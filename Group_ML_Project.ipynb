{
  "nbformat": 4,
  "nbformat_minor": 0,
  "metadata": {
    "colab": {
      "name": "Group ML Project.ipynb",
      "provenance": [],
      "mount_file_id": "1Lv2P26Qa0dVfycOJudEExaq0Sm9vmasr",
      "authorship_tag": "ABX9TyPw5o6NsDzoVPKaR2sPOmk7",
      "include_colab_link": true
    },
    "kernelspec": {
      "name": "python3",
      "display_name": "Python 3"
    },
    "language_info": {
      "name": "python"
    }
  },
  "cells": [
    {
      "cell_type": "markdown",
      "metadata": {
        "id": "view-in-github",
        "colab_type": "text"
      },
      "source": [
        "<a href=\"https://colab.research.google.com/github/Eltonomwega/ML_Notebooks/blob/main/Group_ML_Project.ipynb\" target=\"_parent\"><img src=\"https://colab.research.google.com/assets/colab-badge.svg\" alt=\"Open In Colab\"/></a>"
      ]
    },
    {
      "cell_type": "code",
      "metadata": {
        "id": "puox1Unm63Jn"
      },
      "source": [
        ""
      ],
      "execution_count": 60,
      "outputs": []
    },
    {
      "cell_type": "markdown",
      "metadata": {
        "id": "_hy4T9yn64su"
      },
      "source": [
        "### Twitter disaster prediction\n",
        "\n",
        "This note book aims to predict whether a tweet is a about a real world disaster or not based of off the words used by in the tweet.\n",
        "\n",
        "The dataset can be found found on kaggle -> https://www.kaggle.com/c/nlp-getting-started/data\n",
        "\n"
      ]
    },
    {
      "cell_type": "code",
      "metadata": {
        "id": "Cvi5kj2M58Z-"
      },
      "source": [
        "import spacy\n",
        "import pandas as pd\n",
        "import numpy as np\n",
        "import tensorflow as tf\n",
        "\n",
        "from keras.preprocessing.text import Tokenizer\n",
        "from keras.preprocessing.sequence import pad_sequences\n",
        "from keras.models import *\n",
        "from keras.layers import *\n",
        "from keras.callbacks import *\n",
        "from keras.models import load_model\n",
        "import string"
      ],
      "execution_count": 61,
      "outputs": []
    },
    {
      "cell_type": "code",
      "metadata": {
        "id": "VUmLwytQ7sas"
      },
      "source": [
        "data = pd.read_csv('/content/drive/MyDrive/machine learning/train.csv')\n",
        "\n",
        "train_data, val_data, test_data = \\\n",
        "              np.split(data.sample(frac=1, random_state=42), \n",
        "                       [int(.6*len(data)), int(.8*len(data))])"
      ],
      "execution_count": 62,
      "outputs": []
    },
    {
      "cell_type": "code",
      "metadata": {
        "colab": {
          "base_uri": "https://localhost:8080/",
          "height": 419
        },
        "id": "Ssh1i6DJ9C7-",
        "outputId": "d2f6fe95-3e5f-4390-da12-964277097ac1"
      },
      "source": [
        "train_data"
      ],
      "execution_count": 63,
      "outputs": [
        {
          "output_type": "execute_result",
          "data": {
            "text/html": [
              "<div>\n",
              "<style scoped>\n",
              "    .dataframe tbody tr th:only-of-type {\n",
              "        vertical-align: middle;\n",
              "    }\n",
              "\n",
              "    .dataframe tbody tr th {\n",
              "        vertical-align: top;\n",
              "    }\n",
              "\n",
              "    .dataframe thead th {\n",
              "        text-align: right;\n",
              "    }\n",
              "</style>\n",
              "<table border=\"1\" class=\"dataframe\">\n",
              "  <thead>\n",
              "    <tr style=\"text-align: right;\">\n",
              "      <th></th>\n",
              "      <th>id</th>\n",
              "      <th>keyword</th>\n",
              "      <th>location</th>\n",
              "      <th>text</th>\n",
              "      <th>target</th>\n",
              "    </tr>\n",
              "  </thead>\n",
              "  <tbody>\n",
              "    <tr>\n",
              "      <th>2644</th>\n",
              "      <td>3796</td>\n",
              "      <td>destruction</td>\n",
              "      <td>NaN</td>\n",
              "      <td>So you have a new weapon that can cause un-ima...</td>\n",
              "      <td>1</td>\n",
              "    </tr>\n",
              "    <tr>\n",
              "      <th>2227</th>\n",
              "      <td>3185</td>\n",
              "      <td>deluge</td>\n",
              "      <td>NaN</td>\n",
              "      <td>The f$&amp;amp;@ing things I do for #GISHWHES Just...</td>\n",
              "      <td>0</td>\n",
              "    </tr>\n",
              "    <tr>\n",
              "      <th>5448</th>\n",
              "      <td>7769</td>\n",
              "      <td>police</td>\n",
              "      <td>UK</td>\n",
              "      <td>DT @georgegalloway: RT @Galloway4Mayor: ÛÏThe...</td>\n",
              "      <td>1</td>\n",
              "    </tr>\n",
              "    <tr>\n",
              "      <th>132</th>\n",
              "      <td>191</td>\n",
              "      <td>aftershock</td>\n",
              "      <td>NaN</td>\n",
              "      <td>Aftershock back to school kick off was great. ...</td>\n",
              "      <td>0</td>\n",
              "    </tr>\n",
              "    <tr>\n",
              "      <th>6845</th>\n",
              "      <td>9810</td>\n",
              "      <td>trauma</td>\n",
              "      <td>Montgomery County, MD</td>\n",
              "      <td>in response to trauma Children of Addicts deve...</td>\n",
              "      <td>0</td>\n",
              "    </tr>\n",
              "    <tr>\n",
              "      <th>...</th>\n",
              "      <td>...</td>\n",
              "      <td>...</td>\n",
              "      <td>...</td>\n",
              "      <td>...</td>\n",
              "      <td>...</td>\n",
              "    </tr>\n",
              "    <tr>\n",
              "      <th>484</th>\n",
              "      <td>700</td>\n",
              "      <td>attacked</td>\n",
              "      <td>Los Angeles, CA</td>\n",
              "      <td>@envw98 @NickCoCoFree @JulieDiCaro @jdabe80 I ...</td>\n",
              "      <td>0</td>\n",
              "    </tr>\n",
              "    <tr>\n",
              "      <th>2211</th>\n",
              "      <td>3167</td>\n",
              "      <td>deluge</td>\n",
              "      <td>Melbourne-ish</td>\n",
              "      <td>Despite the deluge of #FantasticFour notices o...</td>\n",
              "      <td>0</td>\n",
              "    </tr>\n",
              "    <tr>\n",
              "      <th>4710</th>\n",
              "      <td>6697</td>\n",
              "      <td>landslide</td>\n",
              "      <td>NaN</td>\n",
              "      <td>@Morning_Joe @Reince @PressSec Joe ur so smart...</td>\n",
              "      <td>0</td>\n",
              "    </tr>\n",
              "    <tr>\n",
              "      <th>2555</th>\n",
              "      <td>3663</td>\n",
              "      <td>destroy</td>\n",
              "      <td>New York City</td>\n",
              "      <td>Watch These Super Strong Magnets Destroy Every...</td>\n",
              "      <td>1</td>\n",
              "    </tr>\n",
              "    <tr>\n",
              "      <th>7</th>\n",
              "      <td>13</td>\n",
              "      <td>NaN</td>\n",
              "      <td>NaN</td>\n",
              "      <td>I'm on top of the hill and I can see a fire in...</td>\n",
              "      <td>1</td>\n",
              "    </tr>\n",
              "  </tbody>\n",
              "</table>\n",
              "<p>4567 rows × 5 columns</p>\n",
              "</div>"
            ],
            "text/plain": [
              "        id  ... target\n",
              "2644  3796  ...      1\n",
              "2227  3185  ...      0\n",
              "5448  7769  ...      1\n",
              "132    191  ...      0\n",
              "6845  9810  ...      0\n",
              "...    ...  ...    ...\n",
              "484    700  ...      0\n",
              "2211  3167  ...      0\n",
              "4710  6697  ...      0\n",
              "2555  3663  ...      1\n",
              "7       13  ...      1\n",
              "\n",
              "[4567 rows x 5 columns]"
            ]
          },
          "metadata": {},
          "execution_count": 63
        }
      ]
    },
    {
      "cell_type": "code",
      "metadata": {
        "colab": {
          "base_uri": "https://localhost:8080/"
        },
        "id": "4yN7cBtV9E2-",
        "outputId": "4e96d832-f217-45aa-e7f4-f1406af84624"
      },
      "source": [
        "train_data.isna().any()"
      ],
      "execution_count": 64,
      "outputs": [
        {
          "output_type": "execute_result",
          "data": {
            "text/plain": [
              "id          False\n",
              "keyword      True\n",
              "location     True\n",
              "text        False\n",
              "target      False\n",
              "dtype: bool"
            ]
          },
          "metadata": {},
          "execution_count": 64
        }
      ]
    },
    {
      "cell_type": "code",
      "metadata": {
        "colab": {
          "base_uri": "https://localhost:8080/"
        },
        "id": "Rzmjv1ks9XQJ",
        "outputId": "5d8e2eb7-fb47-4ab1-9230-e274d7e0793f"
      },
      "source": [
        "## get the balance of the dataset 1 is true for a disaster while 0 is false\n",
        "train_data['target'].value_counts()"
      ],
      "execution_count": 65,
      "outputs": [
        {
          "output_type": "execute_result",
          "data": {
            "text/plain": [
              "0    2609\n",
              "1    1958\n",
              "Name: target, dtype: int64"
            ]
          },
          "metadata": {},
          "execution_count": 65
        }
      ]
    },
    {
      "cell_type": "code",
      "metadata": {
        "id": "usoXqGqh9gUI"
      },
      "source": [
        "## remove punctuation from the tweets\n",
        "def remove_punctuation(text):\n",
        "    punctuationfree=\"\".join([i for i in text if i not in string.punctuation])\n",
        "    return punctuationfree"
      ],
      "execution_count": 66,
      "outputs": []
    },
    {
      "cell_type": "code",
      "metadata": {
        "id": "W7ylPiAD-4m-"
      },
      "source": [
        "train_data['text']= train_data['text'].apply(lambda x:remove_punctuation(x))"
      ],
      "execution_count": 67,
      "outputs": []
    },
    {
      "cell_type": "code",
      "metadata": {
        "id": "UfO_ijuJ_Btl"
      },
      "source": [
        "## convert to all lower case \n",
        "train_data['text']= train_data['text'].apply(lambda x: x.lower())"
      ],
      "execution_count": 68,
      "outputs": []
    },
    {
      "cell_type": "code",
      "metadata": {
        "colab": {
          "base_uri": "https://localhost:8080/",
          "height": 204
        },
        "id": "75lmTE6P_T6b",
        "outputId": "eda25150-3839-401f-c765-ca5072ca2b6b"
      },
      "source": [
        "train_data.head()"
      ],
      "execution_count": 69,
      "outputs": [
        {
          "output_type": "execute_result",
          "data": {
            "text/html": [
              "<div>\n",
              "<style scoped>\n",
              "    .dataframe tbody tr th:only-of-type {\n",
              "        vertical-align: middle;\n",
              "    }\n",
              "\n",
              "    .dataframe tbody tr th {\n",
              "        vertical-align: top;\n",
              "    }\n",
              "\n",
              "    .dataframe thead th {\n",
              "        text-align: right;\n",
              "    }\n",
              "</style>\n",
              "<table border=\"1\" class=\"dataframe\">\n",
              "  <thead>\n",
              "    <tr style=\"text-align: right;\">\n",
              "      <th></th>\n",
              "      <th>id</th>\n",
              "      <th>keyword</th>\n",
              "      <th>location</th>\n",
              "      <th>text</th>\n",
              "      <th>target</th>\n",
              "    </tr>\n",
              "  </thead>\n",
              "  <tbody>\n",
              "    <tr>\n",
              "      <th>2644</th>\n",
              "      <td>3796</td>\n",
              "      <td>destruction</td>\n",
              "      <td>NaN</td>\n",
              "      <td>so you have a new weapon that can cause unimag...</td>\n",
              "      <td>1</td>\n",
              "    </tr>\n",
              "    <tr>\n",
              "      <th>2227</th>\n",
              "      <td>3185</td>\n",
              "      <td>deluge</td>\n",
              "      <td>NaN</td>\n",
              "      <td>the famping things i do for gishwhes just got ...</td>\n",
              "      <td>0</td>\n",
              "    </tr>\n",
              "    <tr>\n",
              "      <th>5448</th>\n",
              "      <td>7769</td>\n",
              "      <td>police</td>\n",
              "      <td>UK</td>\n",
              "      <td>dt georgegalloway rt galloway4mayor ûïthe col...</td>\n",
              "      <td>1</td>\n",
              "    </tr>\n",
              "    <tr>\n",
              "      <th>132</th>\n",
              "      <td>191</td>\n",
              "      <td>aftershock</td>\n",
              "      <td>NaN</td>\n",
              "      <td>aftershock back to school kick off was great i...</td>\n",
              "      <td>0</td>\n",
              "    </tr>\n",
              "    <tr>\n",
              "      <th>6845</th>\n",
              "      <td>9810</td>\n",
              "      <td>trauma</td>\n",
              "      <td>Montgomery County, MD</td>\n",
              "      <td>in response to trauma children of addicts deve...</td>\n",
              "      <td>0</td>\n",
              "    </tr>\n",
              "  </tbody>\n",
              "</table>\n",
              "</div>"
            ],
            "text/plain": [
              "        id  ... target\n",
              "2644  3796  ...      1\n",
              "2227  3185  ...      0\n",
              "5448  7769  ...      1\n",
              "132    191  ...      0\n",
              "6845  9810  ...      0\n",
              "\n",
              "[5 rows x 5 columns]"
            ]
          },
          "metadata": {},
          "execution_count": 69
        }
      ]
    },
    {
      "cell_type": "markdown",
      "metadata": {
        "id": "LYsr_7GP_7an"
      },
      "source": [
        "### Tokenizing the dataset"
      ]
    },
    {
      "cell_type": "code",
      "metadata": {
        "id": "3rzSMmTkACVi"
      },
      "source": [
        "x_tr,y_tr = train_data['text'].values,pd.get_dummies(train_data['target'].values).values\n",
        "x_val,y_val=val_data['text'].values,pd.get_dummies(val_data['target'].values).values\n",
        "x_test,y_test=test_data['text'].values,pd.get_dummies(test_data['target'].values).values"
      ],
      "execution_count": 70,
      "outputs": []
    },
    {
      "cell_type": "code",
      "metadata": {
        "colab": {
          "base_uri": "https://localhost:8080/"
        },
        "id": "Ah9zTB1RAHK6",
        "outputId": "2eb4d27a-883f-4731-932f-95a9e5b69ef4"
      },
      "source": [
        "x_tr"
      ],
      "execution_count": 71,
      "outputs": [
        {
          "output_type": "execute_result",
          "data": {
            "text/plain": [
              "array(['so you have a new weapon that can cause unimaginable destruction',\n",
              "       'the famping things i do for gishwhes just got soaked in a deluge going for pads and tampons thx mishacollins ',\n",
              "       'dt georgegalloway rt galloway4mayor \\x89ûïthe col police can catch a pickpocket in liverpool stree httptcovxin1goq4q',\n",
              "       ...,\n",
              "       'morningjoe reince presssec joe ur so smart u should run 4 president ur perfect the american people love assholes ud win by a landslide',\n",
              "       'watch these super strong magnets destroy everyday objects httptcobtus5jejuy httptcozrtfxluk6r',\n",
              "       'im on top of the hill and i can see a fire in the woods'],\n",
              "      dtype=object)"
            ]
          },
          "metadata": {},
          "execution_count": 71
        }
      ]
    },
    {
      "cell_type": "code",
      "metadata": {
        "id": "uoNOhLPwAN_c"
      },
      "source": [
        "tokenizer = Tokenizer()\n",
        "tokenizer.fit_on_texts(list(x_tr))"
      ],
      "execution_count": 75,
      "outputs": []
    },
    {
      "cell_type": "code",
      "metadata": {
        "id": "b2IVHJJvATSX"
      },
      "source": [
        "x_tr_seq=tokenizer.texts_to_sequences(x_tr)"
      ],
      "execution_count": 76,
      "outputs": []
    },
    {
      "cell_type": "code",
      "metadata": {
        "id": "y_7klBsFEThu"
      },
      "source": [
        "x_val_seq=tokenizer.texts_to_sequences(x_val)\n",
        "x_test_seq=tokenizer.texts_to_sequences(x_test)"
      ],
      "execution_count": 77,
      "outputs": []
    },
    {
      "cell_type": "code",
      "metadata": {
        "id": "gvcBmLghISu3"
      },
      "source": [
        "SEQ_LEN = 100\n",
        "x_tr_seq=pad_sequences(x_tr_seq,maxlen=SEQ_LEN)\n",
        "x_val_seq=pad_sequences(x_val_seq,maxlen=SEQ_LEN)\n",
        "x_test_seq=pad_sequences(x_test_seq,maxlen=SEQ_LEN)"
      ],
      "execution_count": 78,
      "outputs": []
    },
    {
      "cell_type": "code",
      "metadata": {
        "id": "uvKDXOk7IqVY"
      },
      "source": [
        ""
      ],
      "execution_count": null,
      "outputs": []
    },
    {
      "cell_type": "markdown",
      "metadata": {
        "id": "uv2_TVB-Ix_E"
      },
      "source": [
        "### Training Model"
      ]
    },
    {
      "cell_type": "code",
      "metadata": {
        "id": "Bvpo0LJ8I2Az"
      },
      "source": [
        "model=Sequential()\n",
        "model.add(Embedding(len(tokenizer.word_index)+1,300,input_length=SEQ_LEN,trainable=True))\n",
        "model.add(LSTM(128,return_sequences=True,dropout=0.2))\n",
        "model.add(GlobalMaxPool1D())\n",
        "model.add(Dense(64,activation='relu'))\n",
        "model.add(Dense(2,activation='softmax'))"
      ],
      "execution_count": 80,
      "outputs": []
    },
    {
      "cell_type": "code",
      "metadata": {
        "id": "NVVRL26SJFyW"
      },
      "source": [
        "model.compile(optimizer='adam',loss='categorical_crossentropy',metrics=['acc'])\n",
        "es=EarlyStopping(monitor='val_loss',mode='min',verbose=1,patience=3)\n",
        "mc=ModelCheckpoint('best_model.h5',monitor='val_acc',mode='max',save_best_only=True,verbose=1)"
      ],
      "execution_count": 81,
      "outputs": []
    },
    {
      "cell_type": "code",
      "metadata": {
        "colab": {
          "base_uri": "https://localhost:8080/"
        },
        "id": "1YnWpkwVJOGh",
        "outputId": "0c9c7962-1937-4d3f-f5ee-a007c9e1a9ef"
      },
      "source": [
        "print(model.summary())"
      ],
      "execution_count": 82,
      "outputs": [
        {
          "output_type": "stream",
          "text": [
            "Model: \"sequential_1\"\n",
            "_________________________________________________________________\n",
            "Layer (type)                 Output Shape              Param #   \n",
            "=================================================================\n",
            "embedding (Embedding)        (None, 100, 300)          4721400   \n",
            "_________________________________________________________________\n",
            "lstm (LSTM)                  (None, 100, 128)          219648    \n",
            "_________________________________________________________________\n",
            "global_max_pooling1d (Global (None, 128)               0         \n",
            "_________________________________________________________________\n",
            "dense (Dense)                (None, 64)                8256      \n",
            "_________________________________________________________________\n",
            "dense_1 (Dense)              (None, 2)                 130       \n",
            "=================================================================\n",
            "Total params: 4,949,434\n",
            "Trainable params: 4,949,434\n",
            "Non-trainable params: 0\n",
            "_________________________________________________________________\n",
            "None\n"
          ],
          "name": "stdout"
        }
      ]
    },
    {
      "cell_type": "code",
      "metadata": {
        "colab": {
          "base_uri": "https://localhost:8080/"
        },
        "id": "lnFIpkNdJSMe",
        "outputId": "b5cd8c50-d081-4c6c-88c6-1c9a18fbced5"
      },
      "source": [
        "history=model.fit(x_tr_seq,y_tr,batch_size=len(train_data),epochs=10,validation_data=(x_val_seq,y_val),verbose=1,callbacks=[es,mc],validation_steps=1)"
      ],
      "execution_count": 84,
      "outputs": [
        {
          "output_type": "stream",
          "text": [
            "Epoch 1/10\n",
            "1/1 [==============================] - 18s 18s/step - loss: 0.6967 - acc: 0.4287 - val_loss: 0.6871 - val_acc: 0.5673\n",
            "\n",
            "Epoch 00001: val_acc improved from -inf to 0.56730, saving model to best_model.h5\n",
            "Epoch 2/10\n",
            "1/1 [==============================] - 12s 12s/step - loss: 0.6867 - acc: 0.5713 - val_loss: 0.6831 - val_acc: 0.5673\n",
            "\n",
            "Epoch 00002: val_acc did not improve from 0.56730\n",
            "Epoch 3/10\n",
            "1/1 [==============================] - 12s 12s/step - loss: 0.6822 - acc: 0.5713 - val_loss: 0.6814 - val_acc: 0.5673\n",
            "\n",
            "Epoch 00003: val_acc did not improve from 0.56730\n",
            "Epoch 4/10\n",
            "1/1 [==============================] - 12s 12s/step - loss: 0.6801 - acc: 0.5713 - val_loss: 0.6812 - val_acc: 0.5673\n",
            "\n",
            "Epoch 00004: val_acc did not improve from 0.56730\n",
            "Epoch 5/10\n",
            "1/1 [==============================] - 12s 12s/step - loss: 0.6796 - acc: 0.5713 - val_loss: 0.6796 - val_acc: 0.5673\n",
            "\n",
            "Epoch 00005: val_acc did not improve from 0.56730\n",
            "Epoch 6/10\n",
            "1/1 [==============================] - 12s 12s/step - loss: 0.6773 - acc: 0.5713 - val_loss: 0.6771 - val_acc: 0.5673\n",
            "\n",
            "Epoch 00006: val_acc did not improve from 0.56730\n",
            "Epoch 7/10\n",
            "1/1 [==============================] - 12s 12s/step - loss: 0.6737 - acc: 0.5713 - val_loss: 0.6746 - val_acc: 0.5673\n",
            "\n",
            "Epoch 00007: val_acc did not improve from 0.56730\n",
            "Epoch 8/10\n",
            "1/1 [==============================] - 12s 12s/step - loss: 0.6701 - acc: 0.5713 - val_loss: 0.6721 - val_acc: 0.5673\n",
            "\n",
            "Epoch 00008: val_acc did not improve from 0.56730\n",
            "Epoch 9/10\n",
            "1/1 [==============================] - 12s 12s/step - loss: 0.6665 - acc: 0.5713 - val_loss: 0.6692 - val_acc: 0.5673\n",
            "\n",
            "Epoch 00009: val_acc did not improve from 0.56730\n",
            "Epoch 10/10\n",
            "1/1 [==============================] - 12s 12s/step - loss: 0.6620 - acc: 0.5713 - val_loss: 0.6652 - val_acc: 0.5673\n",
            "\n",
            "Epoch 00010: val_acc did not improve from 0.56730\n"
          ],
          "name": "stdout"
        }
      ]
    },
    {
      "cell_type": "code",
      "metadata": {
        "colab": {
          "base_uri": "https://localhost:8080/"
        },
        "id": "qH9Hl_oFKdnn",
        "outputId": "e3c5b9e3-57b0-4408-9233-9aa819139fcc"
      },
      "source": [
        "history2=model.fit(x_tr_seq,y_tr,batch_size=100,epochs=10,validation_data=(x_val_seq,y_val),verbose=1,callbacks=[es,mc],validation_steps=1)"
      ],
      "execution_count": 85,
      "outputs": [
        {
          "output_type": "stream",
          "text": [
            "Epoch 1/10\n",
            "46/46 [==============================] - 21s 426ms/step - loss: 0.4511 - acc: 0.8060 - val_loss: 0.4443 - val_acc: 0.8200\n",
            "\n",
            "Epoch 00001: val_acc improved from 0.56730 to 0.82000, saving model to best_model.h5\n",
            "Epoch 2/10\n",
            "46/46 [==============================] - 20s 433ms/step - loss: 0.2043 - acc: 0.9253 - val_loss: 0.5301 - val_acc: 0.8100\n",
            "\n",
            "Epoch 00002: val_acc did not improve from 0.82000\n",
            "Epoch 3/10\n",
            "46/46 [==============================] - 20s 432ms/step - loss: 0.0953 - acc: 0.9650 - val_loss: 0.6309 - val_acc: 0.8100\n",
            "\n",
            "Epoch 00003: val_acc did not improve from 0.82000\n",
            "Epoch 4/10\n",
            "46/46 [==============================] - 20s 427ms/step - loss: 0.0517 - acc: 0.9820 - val_loss: 0.6606 - val_acc: 0.7800\n",
            "\n",
            "Epoch 00004: val_acc did not improve from 0.82000\n",
            "Epoch 00004: early stopping\n"
          ],
          "name": "stdout"
        }
      ]
    },
    {
      "cell_type": "markdown",
      "metadata": {
        "id": "gEBH65Y7LxDI"
      },
      "source": [
        "### Testing model accuracy"
      ]
    },
    {
      "cell_type": "code",
      "metadata": {
        "id": "Rr3H2brjK8GL"
      },
      "source": [
        "model=load_model('best_model.h5')"
      ],
      "execution_count": 86,
      "outputs": []
    },
    {
      "cell_type": "code",
      "metadata": {
        "colab": {
          "base_uri": "https://localhost:8080/"
        },
        "id": "f1XqZfpHLUHE",
        "outputId": "675d97f0-3fc6-4c16-c8a8-148ab4dbfc7a"
      },
      "source": [
        "_,val_acc=model.evaluate(x_val_seq,y_val,batch_size=100)\n",
        "print(val_acc)"
      ],
      "execution_count": 87,
      "outputs": [
        {
          "output_type": "stream",
          "text": [
            "16/16 [==============================] - 2s 112ms/step - loss: 0.4721 - acc: 0.7925\n",
            "0.7925148010253906\n"
          ],
          "name": "stdout"
        }
      ]
    },
    {
      "cell_type": "code",
      "metadata": {
        "id": "f--iFbjQLZjP"
      },
      "source": [
        ""
      ],
      "execution_count": null,
      "outputs": []
    }
  ]
}